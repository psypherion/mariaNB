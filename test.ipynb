{
 "cells": [
  {
   "cell_type": "code",
   "execution_count": 1,
   "id": "5d883dd1",
   "metadata": {},
   "outputs": [
    {
     "name": "stdout",
     "output_type": "stream",
     "text": [
      "🚀 Loading Marianb - MariaDB Hackathon Edition v0.1.0\n",
      "✅ Marianb loaded successfully!\n",
      "   📝 Use %mariadb for single-line queries\n",
      "   📄 Use %%mariadb for multi-line queries\n",
      "   🎯 Example: %mariadb SELECT VERSION()\n",
      "   🏆 Ready for MariaDB Hackathon!\n"
     ]
    }
   ],
   "source": [
    "# Try direct import first\n",
    "import sys\n",
    "sys.path.append('src')\n",
    "\n",
    "from marianb import load_ipython_extension\n",
    "load_ipython_extension(get_ipython())\n"
   ]
  },
  {
   "cell_type": "code",
   "execution_count": 1,
   "id": "324291cb",
   "metadata": {},
   "outputs": [],
   "source": [
    "# Cell 1: Set up environment\n",
    "import os\n",
    "os.environ['MARIADB_HOST'] = 'localhost'\n",
    "os.environ['MARIADB_USER'] = 'root'\n",
    "os.environ['MARIADB_PASSWORD'] = 'hackathon123'  # or '' if no password\n",
    "os.environ['MARIADB_DATABASE'] = 'marianb_test'\n"
   ]
  },
  {
   "cell_type": "code",
   "execution_count": 2,
   "id": "4a9cc8fa-465d-4536-a16b-092c257df523",
   "metadata": {},
   "outputs": [
    {
     "name": "stdout",
     "output_type": "stream",
     "text": [
      "🚀 Loading Marianb - MariaDB Hackathon Edition v0.1.0\n",
      "✅ Marianb loaded successfully!\n",
      "   📝 Use %mariadb for single-line queries\n",
      "   📄 Use %%mariadb for multi-line queries\n",
      "   🎯 Example: %mariadb SELECT VERSION()\n",
      "   🏆 Ready for MariaDB Hackathon!\n"
     ]
    }
   ],
   "source": [
    "import sys\n",
    "sys.path.append('src')\n",
    "\n",
    "from marianb import load_ipython_extension\n",
    "load_ipython_extension(get_ipython())"
   ]
  },
  {
   "cell_type": "code",
   "execution_count": 3,
   "id": "b1df6355-a121-4dce-9d17-5332e150d772",
   "metadata": {},
   "outputs": [
    {
     "name": "stderr",
     "output_type": "stream",
     "text": [
      "/Users/beck3tt/Documents/work/mariaNB/src/marianb/magic.py:93: UserWarning: pandas only supports SQLAlchemy connectable (engine/connection) or database string URI or sqlite3 DBAPI2 connection. Other DBAPI2 objects are not tested. Please consider using SQLAlchemy.\n",
      "  df = pd.read_sql(sql, conn)\n"
     ]
    },
    {
     "data": {
      "text/html": [
       "<div>\n",
       "<style scoped>\n",
       "    .dataframe tbody tr th:only-of-type {\n",
       "        vertical-align: middle;\n",
       "    }\n",
       "\n",
       "    .dataframe tbody tr th {\n",
       "        vertical-align: top;\n",
       "    }\n",
       "\n",
       "    .dataframe thead th {\n",
       "        text-align: right;\n",
       "    }\n",
       "</style>\n",
       "<table border=\"1\" class=\"dataframe\">\n",
       "  <thead>\n",
       "    <tr style=\"text-align: right;\">\n",
       "      <th></th>\n",
       "      <th>version</th>\n",
       "      <th>status</th>\n",
       "    </tr>\n",
       "  </thead>\n",
       "  <tbody>\n",
       "    <tr>\n",
       "      <th>0</th>\n",
       "      <td>12.0.2-MariaDB</td>\n",
       "      <td>Hackathon Ready!</td>\n",
       "    </tr>\n",
       "  </tbody>\n",
       "</table>\n",
       "</div>"
      ],
      "text/plain": [
       "          version            status\n",
       "0  12.0.2-MariaDB  Hackathon Ready!"
      ]
     },
     "execution_count": 3,
     "metadata": {},
     "output_type": "execute_result"
    }
   ],
   "source": [
    "%mariadb SELECT VERSION() as version, 'Hackathon Ready!' as status\n"
   ]
  },
  {
   "cell_type": "code",
   "execution_count": 4,
   "id": "8e875f1b-bc7a-488a-919e-4464fdf3e1e2",
   "metadata": {},
   "outputs": [
    {
     "name": "stdout",
     "output_type": "stream",
     "text": [
      "✅ Result stored in variable 'results'\n"
     ]
    },
    {
     "name": "stderr",
     "output_type": "stream",
     "text": [
      "/Users/beck3tt/Documents/work/mariaNB/src/marianb/magic.py:93: UserWarning: pandas only supports SQLAlchemy connectable (engine/connection) or database string URI or sqlite3 DBAPI2 connection. Other DBAPI2 objects are not tested. Please consider using SQLAlchemy.\n",
      "  df = pd.read_sql(sql, conn)\n"
     ]
    },
    {
     "data": {
      "text/html": [
       "<div>\n",
       "<style scoped>\n",
       "    .dataframe tbody tr th:only-of-type {\n",
       "        vertical-align: middle;\n",
       "    }\n",
       "\n",
       "    .dataframe tbody tr th {\n",
       "        vertical-align: top;\n",
       "    }\n",
       "\n",
       "    .dataframe thead th {\n",
       "        text-align: right;\n",
       "    }\n",
       "</style>\n",
       "<table border=\"1\" class=\"dataframe\">\n",
       "  <thead>\n",
       "    <tr style=\"text-align: right;\">\n",
       "      <th></th>\n",
       "      <th>database_type</th>\n",
       "      <th>version</th>\n",
       "      <th>current_db</th>\n",
       "      <th>user_info</th>\n",
       "      <th>timestamp</th>\n",
       "    </tr>\n",
       "  </thead>\n",
       "  <tbody>\n",
       "    <tr>\n",
       "      <th>0</th>\n",
       "      <td>MariaDB</td>\n",
       "      <td>12.0.2-MariaDB</td>\n",
       "      <td>marianb_test</td>\n",
       "      <td>root@localhost</td>\n",
       "      <td>2025-08-31 03:30:47</td>\n",
       "    </tr>\n",
       "  </tbody>\n",
       "</table>\n",
       "</div>"
      ],
      "text/plain": [
       "  database_type         version    current_db       user_info  \\\n",
       "0       MariaDB  12.0.2-MariaDB  marianb_test  root@localhost   \n",
       "\n",
       "            timestamp  \n",
       "0 2025-08-31 03:30:47  "
      ]
     },
     "execution_count": 4,
     "metadata": {},
     "output_type": "execute_result"
    }
   ],
   "source": [
    "%%mariadb -df results\n",
    "SELECT \n",
    "    'MariaDB' as database_type,\n",
    "    VERSION() as version,\n",
    "    DATABASE() as current_db,\n",
    "    USER() as user_info,     # ← Changed alias\n",
    "    NOW() as timestamp"
   ]
  },
  {
   "cell_type": "code",
   "execution_count": 5,
   "id": "422504ef-06b6-4e20-8c11-06d3afec8ba9",
   "metadata": {},
   "outputs": [
    {
     "data": {
      "text/html": [
       "<div>\n",
       "<style scoped>\n",
       "    .dataframe tbody tr th:only-of-type {\n",
       "        vertical-align: middle;\n",
       "    }\n",
       "\n",
       "    .dataframe tbody tr th {\n",
       "        vertical-align: top;\n",
       "    }\n",
       "\n",
       "    .dataframe thead th {\n",
       "        text-align: right;\n",
       "    }\n",
       "</style>\n",
       "<table border=\"1\" class=\"dataframe\">\n",
       "  <thead>\n",
       "    <tr style=\"text-align: right;\">\n",
       "      <th></th>\n",
       "      <th>database_type</th>\n",
       "      <th>version</th>\n",
       "      <th>current_db</th>\n",
       "      <th>user_info</th>\n",
       "      <th>timestamp</th>\n",
       "    </tr>\n",
       "  </thead>\n",
       "  <tbody>\n",
       "    <tr>\n",
       "      <th>0</th>\n",
       "      <td>MariaDB</td>\n",
       "      <td>12.0.2-MariaDB</td>\n",
       "      <td>marianb_test</td>\n",
       "      <td>root@localhost</td>\n",
       "      <td>2025-08-31 03:30:47</td>\n",
       "    </tr>\n",
       "  </tbody>\n",
       "</table>\n",
       "</div>"
      ],
      "text/plain": [
       "  database_type         version    current_db       user_info  \\\n",
       "0       MariaDB  12.0.2-MariaDB  marianb_test  root@localhost   \n",
       "\n",
       "            timestamp  \n",
       "0 2025-08-31 03:30:47  "
      ]
     },
     "execution_count": 5,
     "metadata": {},
     "output_type": "execute_result"
    }
   ],
   "source": [
    "results"
   ]
  },
  {
   "cell_type": "code",
   "execution_count": 7,
   "id": "de5876d7-c98c-4db0-9619-35cc8c03a2b0",
   "metadata": {},
   "outputs": [
    {
     "ename": "SyntaxError",
     "evalue": "invalid syntax (1767710738.py, line 9)",
     "output_type": "error",
     "traceback": [
      "  \u001b[36mCell\u001b[39m\u001b[36m \u001b[39m\u001b[32mIn[7]\u001b[39m\u001b[32m, line 9\u001b[39m\n\u001b[31m    \u001b[39m\u001b[31mCREATE TABLE IF NOT EXISTS ai_startup_metrics (\u001b[39m\n           ^\n\u001b[31mSyntaxError\u001b[39m\u001b[31m:\u001b[39m invalid syntax\n"
     ]
    }
   ],
   "source": [
    "print(\"🚀 MARIANB: The Future of Database-Driven Data Science\")\n",
    "print(\"=\" * 60)\n",
    "\n",
    "# Show current capabilities\n",
    "%mariadb SELECT 'MariaDB 12.0.2' as version, 'Hackathon Ready!' as status\n",
    "\n",
    "# Create impressive business scenario\n",
    "%%mariadb\n",
    "CREATE TABLE IF NOT EXISTS ai_startup_metrics (\n",
    "    id INT AUTO_INCREMENT PRIMARY KEY,\n",
    "    company VARCHAR(100),\n",
    "    metrics JSON,\n",
    "    funding_round VARCHAR(50),\n",
    "    valuation_millions DECIMAL(10,2)\n",
    ");\n",
    "\n",
    "INSERT INTO ai_startup_metrics VALUES\n",
    "(1, 'VectorAI Corp', '{\"employees\": 150, \"customers\": 5000, \"mrr\": 500000, \"tech_stack\": [\"MariaDB\", \"Python\", \"React\"]}', 'Series B', 250.0),\n",
    "(2, 'DataFlow Systems', '{\"employees\": 85, \"customers\": 2500, \"mrr\": 300000, \"tech_stack\": [\"MariaDB\", \"Node.js\", \"Vue\"]}', 'Series A', 120.0),\n",
    "(3, 'ML Innovations', '{\"employees\": 200, \"customers\": 8000, \"mrr\": 750000, \"tech_stack\": [\"MariaDB\", \"Python\", \"Angular\"]}', 'Series C', 500.0);\n",
    "\n",
    "# THE MONEY SHOT: Advanced MariaDB JSON + Instant Business Intelligence\n",
    "%%mariadb -df startup_intelligence --plot bar\n",
    "SELECT \n",
    "    company,\n",
    "    JSON_EXTRACT(metrics, '$.employees') as team_size,\n",
    "    JSON_EXTRACT(metrics, '$.mrr') / 1000 as monthly_revenue_k,\n",
    "    valuation_millions,\n",
    "    ROUND(valuation_millions / (JSON_EXTRACT(metrics, '$.employees')), 2) as value_per_employee\n",
    "FROM ai_startup_metrics \n",
    "ORDER BY valuation_millions DESC;\n",
    "\n",
    "# Show the magic in action\n",
    "print(f\"📊 Analysis Complete: {len(startup_intelligence)} companies analyzed\")\n",
    "print(f\"💰 Total Market Cap: ${startup_intelligence['valuation_millions'].sum()}M\")\n",
    "print(f\"👥 Average Team Size: {startup_intelligence['team_size'].mean():.0f} employees\")\n",
    "print(\"\\n🎯 FROM MARIADB TO BUSINESS INSIGHTS IN SECONDS!\")\n",
    "print(\"🏆 This is what makes Marianb special - turning data into decisions instantly!\")\n"
   ]
  },
  {
   "cell_type": "code",
   "execution_count": 8,
   "id": "79cd8cd0-34b5-404f-84c0-af2f51eb7679",
   "metadata": {},
   "outputs": [
    {
     "ename": "SyntaxError",
     "evalue": "invalid syntax (526110075.py, line 3)",
     "output_type": "error",
     "traceback": [
      "  \u001b[36mCell\u001b[39m\u001b[36m \u001b[39m\u001b[32mIn[8]\u001b[39m\u001b[32m, line 3\u001b[39m\n\u001b[31m    \u001b[39m\u001b[31mCREATE TABLE IF NOT EXISTS ai_startup_metrics (\u001b[39m\n           ^\n\u001b[31mSyntaxError\u001b[39m\u001b[31m:\u001b[39m invalid syntax\n"
     ]
    }
   ],
   "source": [
    "# CORRECT format:\n",
    "%%mariadb\n",
    "CREATE TABLE IF NOT EXISTS ai_startup_metrics (\n",
    "    id INT AUTO_INCREMENT PRIMARY KEY,\n",
    "    company VARCHAR(100),\n",
    "    metrics JSON,\n",
    "    funding_round VARCHAR(50),\n",
    "    valuation_millions DECIMAL(10,2)\n",
    ");\n"
   ]
  },
  {
   "cell_type": "code",
   "execution_count": 9,
   "id": "65695c35-35b8-48db-8300-aa8674cf6e67",
   "metadata": {},
   "outputs": [
    {
     "data": {
      "text/html": [
       "<div>\n",
       "<style scoped>\n",
       "    .dataframe tbody tr th:only-of-type {\n",
       "        vertical-align: middle;\n",
       "    }\n",
       "\n",
       "    .dataframe tbody tr th {\n",
       "        vertical-align: top;\n",
       "    }\n",
       "\n",
       "    .dataframe thead th {\n",
       "        text-align: right;\n",
       "    }\n",
       "</style>\n",
       "<table border=\"1\" class=\"dataframe\">\n",
       "  <thead>\n",
       "    <tr style=\"text-align: right;\">\n",
       "      <th></th>\n",
       "      <th>project</th>\n",
       "      <th>version</th>\n",
       "    </tr>\n",
       "  </thead>\n",
       "  <tbody>\n",
       "    <tr>\n",
       "      <th>0</th>\n",
       "      <td>MariaDB Hackathon</td>\n",
       "      <td>12.0.2-MariaDB</td>\n",
       "    </tr>\n",
       "  </tbody>\n",
       "</table>\n",
       "</div>"
      ],
      "text/plain": [
       "             project         version\n",
       "0  MariaDB Hackathon  12.0.2-MariaDB"
      ]
     },
     "execution_count": 9,
     "metadata": {},
     "output_type": "execute_result"
    }
   ],
   "source": [
    "%mariadb SELECT 'MariaDB Hackathon' as project, VERSION() as version\n"
   ]
  },
  {
   "cell_type": "code",
   "execution_count": 10,
   "id": "9ed386f3-c734-451b-b3e9-0712d3fe6c70",
   "metadata": {},
   "outputs": [
    {
     "data": {
      "text/plain": [
       "'✅ Query executed successfully. 0 rows affected.'"
      ]
     },
     "execution_count": 10,
     "metadata": {},
     "output_type": "execute_result"
    }
   ],
   "source": [
    "%%mariadb\n",
    "CREATE TABLE IF NOT EXISTS ai_startup_metrics (\n",
    "    id INT AUTO_INCREMENT PRIMARY KEY,\n",
    "    company VARCHAR(100),\n",
    "    metrics JSON,\n",
    "    funding_round VARCHAR(50),\n",
    "    valuation_millions DECIMAL(10,2)\n",
    ")\n"
   ]
  },
  {
   "cell_type": "code",
   "execution_count": 11,
   "id": "d04c2e06-5816-4b28-9bc5-9715569e3e86",
   "metadata": {},
   "outputs": [
    {
     "data": {
      "text/plain": [
       "'❌ Error executing query: Failed to get connection: No connection available'"
      ]
     },
     "execution_count": 11,
     "metadata": {},
     "output_type": "execute_result"
    }
   ],
   "source": [
    "%%mariadb\n",
    "INSERT INTO ai_startup_metrics VALUES\n",
    "(1, 'VectorAI Corp', '{\"employees\": 150, \"customers\": 5000, \"mrr\": 500000}', 'Series B', 250.0),\n",
    "(2, 'DataFlow Systems', '{\"employees\": 85, \"customers\": 2500, \"mrr\": 300000}', 'Series A', 120.0),\n",
    "(3, 'ML Innovations', '{\"employees\": 200, \"customers\": 8000, \"mrr\": 750000}', 'Series C', 500.0)\n"
   ]
  },
  {
   "cell_type": "code",
   "execution_count": null,
   "id": "b0c29776-bc45-4158-86e1-e1e7d4afefe9",
   "metadata": {},
   "outputs": [],
   "source": []
  }
 ],
 "metadata": {
  "kernelspec": {
   "display_name": "Python 3 (ipykernel)",
   "language": "python",
   "name": "python3"
  },
  "language_info": {
   "codemirror_mode": {
    "name": "ipython",
    "version": 3
   },
   "file_extension": ".py",
   "mimetype": "text/x-python",
   "name": "python",
   "nbconvert_exporter": "python",
   "pygments_lexer": "ipython3",
   "version": "3.11.9"
  }
 },
 "nbformat": 4,
 "nbformat_minor": 5
}
