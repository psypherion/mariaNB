{
 "cells": [
  {
   "cell_type": "code",
   "execution_count": 2,
   "id": "5d883dd1",
   "metadata": {},
   "outputs": [
    {
     "name": "stdout",
     "output_type": "stream",
     "text": [
      "🚀 Loading Marianb - MariaDB Jupyter Extension v0.1.0\n",
      "✅ Marianb loaded successfully!\n",
      "   Use %mariadb for single-line queries\n",
      "   Use %%mariadb for multi-line queries\n",
      "   Example: %mariadb SELECT VERSION()\n"
     ]
    }
   ],
   "source": [
    "# Try direct import first\n",
    "import sys\n",
    "sys.path.append('src')\n",
    "\n",
    "from marianb import load_ipython_extension\n",
    "load_ipython_extension(get_ipython())\n"
   ]
  },
  {
   "cell_type": "code",
   "execution_count": 4,
   "id": "324291cb",
   "metadata": {},
   "outputs": [
    {
     "name": "stdout",
     "output_type": "stream",
     "text": [
      "✅ MariaDB connection working! Version: 12.0.2-MariaDB\n",
      "🚀 Loading Marianb - MariaDB Jupyter Extension v0.1.0\n",
      "✅ Marianb loaded successfully!\n",
      "   Use %mariadb for single-line queries\n",
      "   Use %%mariadb for multi-line queries\n",
      "   Example: %mariadb SELECT VERSION()\n"
     ]
    },
    {
     "ename": "TypeError",
     "evalue": "MariaDBMagics.mariadb() missing 1 required positional argument: 'cell'",
     "output_type": "error",
     "traceback": [
      "\u001b[31m---------------------------------------------------------------------------\u001b[39m",
      "\u001b[31mTypeError\u001b[39m                                 Traceback (most recent call last)",
      "\u001b[36mCell\u001b[39m\u001b[36m \u001b[39m\u001b[32mIn[4]\u001b[39m\u001b[32m, line 34\u001b[39m\n\u001b[32m     31\u001b[39m load_ipython_extension(get_ipython())\n\u001b[32m     33\u001b[39m \u001b[38;5;66;03m# Cell 4: First magic command test!\u001b[39;00m\n\u001b[32m---> \u001b[39m\u001b[32m34\u001b[39m \u001b[43mget_ipython\u001b[49m\u001b[43m(\u001b[49m\u001b[43m)\u001b[49m\u001b[43m.\u001b[49m\u001b[43mrun_line_magic\u001b[49m\u001b[43m(\u001b[49m\u001b[33;43m'\u001b[39;49m\u001b[33;43mmariadb\u001b[39;49m\u001b[33;43m'\u001b[39;49m\u001b[43m,\u001b[49m\u001b[43m \u001b[49m\u001b[33;43m\"\u001b[39;49m\u001b[33;43mSELECT VERSION() as version, DATABASE() as current_db, \u001b[39;49m\u001b[33;43m'\u001b[39;49m\u001b[33;43mHackathon Ready!\u001b[39;49m\u001b[33;43m'\u001b[39;49m\u001b[33;43m as status\u001b[39;49m\u001b[33;43m\"\u001b[39;49m\u001b[43m)\u001b[49m\n",
      "\u001b[36mFile \u001b[39m\u001b[32m~/Documents/work/mariaNB/venv/lib/python3.11/site-packages/IPython/core/interactiveshell.py:2504\u001b[39m, in \u001b[36mInteractiveShell.run_line_magic\u001b[39m\u001b[34m(self, magic_name, line, _stack_depth)\u001b[39m\n\u001b[32m   2502\u001b[39m     kwargs[\u001b[33m'\u001b[39m\u001b[33mlocal_ns\u001b[39m\u001b[33m'\u001b[39m] = \u001b[38;5;28mself\u001b[39m.get_local_scope(stack_depth)\n\u001b[32m   2503\u001b[39m \u001b[38;5;28;01mwith\u001b[39;00m \u001b[38;5;28mself\u001b[39m.builtin_trap:\n\u001b[32m-> \u001b[39m\u001b[32m2504\u001b[39m     result = \u001b[43mfn\u001b[49m\u001b[43m(\u001b[49m\u001b[43m*\u001b[49m\u001b[43margs\u001b[49m\u001b[43m,\u001b[49m\u001b[43m \u001b[49m\u001b[43m*\u001b[49m\u001b[43m*\u001b[49m\u001b[43mkwargs\u001b[49m\u001b[43m)\u001b[49m\n\u001b[32m   2506\u001b[39m \u001b[38;5;66;03m# The code below prevents the output from being displayed\u001b[39;00m\n\u001b[32m   2507\u001b[39m \u001b[38;5;66;03m# when using magics with decorator @output_can_be_silenced\u001b[39;00m\n\u001b[32m   2508\u001b[39m \u001b[38;5;66;03m# when the last Python token in the expression is a ';'.\u001b[39;00m\n\u001b[32m   2509\u001b[39m \u001b[38;5;28;01mif\u001b[39;00m \u001b[38;5;28mgetattr\u001b[39m(fn, magic.MAGIC_OUTPUT_CAN_BE_SILENCED, \u001b[38;5;28;01mFalse\u001b[39;00m):\n",
      "\u001b[31mTypeError\u001b[39m: MariaDBMagics.mariadb() missing 1 required positional argument: 'cell'"
     ]
    }
   ],
   "source": [
    "# Cell 1: Set up environment variables\n",
    "import os\n",
    "os.environ['MARIADB_HOST'] = 'localhost'\n",
    "os.environ['MARIADB_USER'] = 'root'\n",
    "os.environ['MARIADB_PASSWORD'] = ''  # Empty since using system auth\n",
    "os.environ['MARIADB_DATABASE'] = 'marianb_test'\n",
    "\n",
    "# Cell 2: Test MariaDB connection directly\n",
    "try:\n",
    "    import mariadb\n",
    "    conn = mariadb.connect(\n",
    "        host='localhost',\n",
    "        user='root', \n",
    "        password='hackathon123',\n",
    "        database='marianb_test'\n",
    "    )\n",
    "    cursor = conn.cursor()\n",
    "    cursor.execute(\"SELECT VERSION()\")\n",
    "    result = cursor.fetchone()\n",
    "    print(f\"✅ MariaDB connection working! Version: {result[0]}\")\n",
    "    cursor.close()\n",
    "    conn.close()\n",
    "except Exception as e:\n",
    "    print(f\"❌ Connection issue: {e}\")\n",
    "\n",
    "# Cell 3: Load your Marianb extension\n",
    "import sys\n",
    "sys.path.append('src')\n",
    "\n",
    "from marianb import load_ipython_extension\n",
    "load_ipython_extension(get_ipython())\n",
    "\n",
    "# Cell 4: First magic command test!\n",
    "%mariadb SELECT VERSION() as version, DATABASE() as current_db, 'Hackathon Ready!' as status\n"
   ]
  },
  {
   "cell_type": "code",
   "execution_count": null,
   "id": "4a9cc8fa-465d-4536-a16b-092c257df523",
   "metadata": {},
   "outputs": [],
   "source": []
  }
 ],
 "metadata": {
  "kernelspec": {
   "display_name": "Python 3 (ipykernel)",
   "language": "python",
   "name": "python3"
  },
  "language_info": {
   "codemirror_mode": {
    "name": "ipython",
    "version": 3
   },
   "file_extension": ".py",
   "mimetype": "text/x-python",
   "name": "python",
   "nbconvert_exporter": "python",
   "pygments_lexer": "ipython3",
   "version": "3.11.9"
  }
 },
 "nbformat": 4,
 "nbformat_minor": 5
}
